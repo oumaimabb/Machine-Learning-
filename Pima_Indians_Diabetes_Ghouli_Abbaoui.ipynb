{
  "cells": [
    {
      "cell_type": "code",
      "execution_count": 1,
      "metadata": {
        "id": "YmW0MscNijXU"
      },
      "outputs": [],
      "source": [
        "import numpy as np\n",
        "import pandas as pd\n",
        "from matplotlib import pyplot as plt\n",
        "from sklearn import datasets\n",
        "\n",
        "from sklearn.cluster import KMeans\n",
        "from mlxtend.plotting import plot_decision_regions"
      ]
    },
    {
      "cell_type": "markdown",
      "metadata": {},
      "source": [
        "Traitement des données "
      ]
    },
    {
      "cell_type": "code",
      "execution_count": 46,
      "metadata": {
        "colab": {
          "base_uri": "https://localhost:8080/",
          "height": 424
        },
        "id": "_N2TDbppijTK",
        "outputId": "6108e669-ce28-481b-921c-4385cf57e549"
      },
      "outputs": [],
      "source": [
        "df_diabetes = pd.read_csv(\"diabetes.csv\")\n",
        "\n",
        "df_diabetes\n",
        "df=df_diabetes"
      ]
    },
    {
      "cell_type": "code",
      "execution_count": 48,
      "metadata": {
        "colab": {
          "base_uri": "https://localhost:8080/",
          "height": 363
        },
        "id": "lybJDCAyijPw",
        "outputId": "f5b4d37f-456d-4b56-e138-3a824547703a"
      },
      "outputs": [
        {
          "data": {
            "text/html": [
              "<div>\n",
              "<style scoped>\n",
              "    .dataframe tbody tr th:only-of-type {\n",
              "        vertical-align: middle;\n",
              "    }\n",
              "\n",
              "    .dataframe tbody tr th {\n",
              "        vertical-align: top;\n",
              "    }\n",
              "\n",
              "    .dataframe thead th {\n",
              "        text-align: right;\n",
              "    }\n",
              "</style>\n",
              "<table border=\"1\" class=\"dataframe\">\n",
              "  <thead>\n",
              "    <tr style=\"text-align: right;\">\n",
              "      <th></th>\n",
              "      <th>Pregnancies</th>\n",
              "      <th>Glucose</th>\n",
              "      <th>BloodPressure</th>\n",
              "      <th>SkinThickness</th>\n",
              "      <th>Insulin</th>\n",
              "      <th>BMI</th>\n",
              "      <th>DiabetesPedigreeFunction</th>\n",
              "      <th>Age</th>\n",
              "      <th>Outcome</th>\n",
              "    </tr>\n",
              "  </thead>\n",
              "  <tbody>\n",
              "    <tr>\n",
              "      <th>0</th>\n",
              "      <td>6</td>\n",
              "      <td>148</td>\n",
              "      <td>72</td>\n",
              "      <td>35</td>\n",
              "      <td>0</td>\n",
              "      <td>33.6</td>\n",
              "      <td>0.627</td>\n",
              "      <td>50</td>\n",
              "      <td>1</td>\n",
              "    </tr>\n",
              "    <tr>\n",
              "      <th>1</th>\n",
              "      <td>1</td>\n",
              "      <td>85</td>\n",
              "      <td>66</td>\n",
              "      <td>29</td>\n",
              "      <td>0</td>\n",
              "      <td>26.6</td>\n",
              "      <td>0.351</td>\n",
              "      <td>31</td>\n",
              "      <td>0</td>\n",
              "    </tr>\n",
              "    <tr>\n",
              "      <th>2</th>\n",
              "      <td>8</td>\n",
              "      <td>183</td>\n",
              "      <td>64</td>\n",
              "      <td>0</td>\n",
              "      <td>0</td>\n",
              "      <td>23.3</td>\n",
              "      <td>0.672</td>\n",
              "      <td>32</td>\n",
              "      <td>1</td>\n",
              "    </tr>\n",
              "    <tr>\n",
              "      <th>3</th>\n",
              "      <td>1</td>\n",
              "      <td>89</td>\n",
              "      <td>66</td>\n",
              "      <td>23</td>\n",
              "      <td>94</td>\n",
              "      <td>28.1</td>\n",
              "      <td>0.167</td>\n",
              "      <td>21</td>\n",
              "      <td>0</td>\n",
              "    </tr>\n",
              "    <tr>\n",
              "      <th>4</th>\n",
              "      <td>0</td>\n",
              "      <td>137</td>\n",
              "      <td>40</td>\n",
              "      <td>35</td>\n",
              "      <td>168</td>\n",
              "      <td>43.1</td>\n",
              "      <td>2.288</td>\n",
              "      <td>33</td>\n",
              "      <td>1</td>\n",
              "    </tr>\n",
              "    <tr>\n",
              "      <th>5</th>\n",
              "      <td>5</td>\n",
              "      <td>116</td>\n",
              "      <td>74</td>\n",
              "      <td>0</td>\n",
              "      <td>0</td>\n",
              "      <td>25.6</td>\n",
              "      <td>0.201</td>\n",
              "      <td>30</td>\n",
              "      <td>0</td>\n",
              "    </tr>\n",
              "    <tr>\n",
              "      <th>6</th>\n",
              "      <td>3</td>\n",
              "      <td>78</td>\n",
              "      <td>50</td>\n",
              "      <td>32</td>\n",
              "      <td>88</td>\n",
              "      <td>31.0</td>\n",
              "      <td>0.248</td>\n",
              "      <td>26</td>\n",
              "      <td>1</td>\n",
              "    </tr>\n",
              "    <tr>\n",
              "      <th>7</th>\n",
              "      <td>10</td>\n",
              "      <td>115</td>\n",
              "      <td>0</td>\n",
              "      <td>0</td>\n",
              "      <td>0</td>\n",
              "      <td>35.3</td>\n",
              "      <td>0.134</td>\n",
              "      <td>29</td>\n",
              "      <td>0</td>\n",
              "    </tr>\n",
              "    <tr>\n",
              "      <th>8</th>\n",
              "      <td>2</td>\n",
              "      <td>197</td>\n",
              "      <td>70</td>\n",
              "      <td>45</td>\n",
              "      <td>543</td>\n",
              "      <td>30.5</td>\n",
              "      <td>0.158</td>\n",
              "      <td>53</td>\n",
              "      <td>1</td>\n",
              "    </tr>\n",
              "    <tr>\n",
              "      <th>9</th>\n",
              "      <td>8</td>\n",
              "      <td>125</td>\n",
              "      <td>96</td>\n",
              "      <td>0</td>\n",
              "      <td>0</td>\n",
              "      <td>0.0</td>\n",
              "      <td>0.232</td>\n",
              "      <td>54</td>\n",
              "      <td>1</td>\n",
              "    </tr>\n",
              "  </tbody>\n",
              "</table>\n",
              "</div>"
            ],
            "text/plain": [
              "   Pregnancies  Glucose  BloodPressure  SkinThickness  Insulin   BMI  \\\n",
              "0            6      148             72             35        0  33.6   \n",
              "1            1       85             66             29        0  26.6   \n",
              "2            8      183             64              0        0  23.3   \n",
              "3            1       89             66             23       94  28.1   \n",
              "4            0      137             40             35      168  43.1   \n",
              "5            5      116             74              0        0  25.6   \n",
              "6            3       78             50             32       88  31.0   \n",
              "7           10      115              0              0        0  35.3   \n",
              "8            2      197             70             45      543  30.5   \n",
              "9            8      125             96              0        0   0.0   \n",
              "\n",
              "   DiabetesPedigreeFunction  Age  Outcome  \n",
              "0                     0.627   50        1  \n",
              "1                     0.351   31        0  \n",
              "2                     0.672   32        1  \n",
              "3                     0.167   21        0  \n",
              "4                     2.288   33        1  \n",
              "5                     0.201   30        0  \n",
              "6                     0.248   26        1  \n",
              "7                     0.134   29        0  \n",
              "8                     0.158   53        1  \n",
              "9                     0.232   54        1  "
            ]
          },
          "execution_count": 48,
          "metadata": {},
          "output_type": "execute_result"
        }
      ],
      "source": [
        "df_diabetes.head(10)"
      ]
    },
    {
      "cell_type": "code",
      "execution_count": 49,
      "metadata": {
        "colab": {
          "base_uri": "https://localhost:8080/"
        },
        "id": "RhMAxsEnijMZ",
        "outputId": "b2432387-1995-41bf-9fb3-c07d5067fafd"
      },
      "outputs": [
        {
          "name": "stdout",
          "output_type": "stream",
          "text": [
            "Pregnancies                 111\n",
            "Glucose                       5\n",
            "BloodPressure                35\n",
            "SkinThickness               227\n",
            "Insulin                     374\n",
            "BMI                          11\n",
            "DiabetesPedigreeFunction      0\n",
            "Age                           0\n",
            "Outcome                     500\n",
            "dtype: int64\n"
          ]
        }
      ],
      "source": [
        "print((df_diabetes[df_diabetes.columns] == 0).sum())"
      ]
    },
    {
      "cell_type": "markdown",
      "metadata": {},
      "source": [
        "Pour Pregnancy les valeurs 0 representent No pegnancy. Pour les autres colonnes  il est impossible d'avoir des 0. \n",
        "Donc on doit remplacer les 0 par des NaN et puis on va utiliser la fonction ffill()  pour mettre des valeurs."
      ]
    },
    {
      "cell_type": "code",
      "execution_count": 50,
      "metadata": {},
      "outputs": [],
      "source": [
        "df_diabetes[['Glucose', 'BloodPressure', 'SkinThickness', 'Insulin', 'BMI']] = df_diabetes[['Glucose', 'BloodPressure', 'SkinThickness', 'Insulin', 'BMI']].replace(0,np.nan)\n"
      ]
    },
    {
      "cell_type": "code",
      "execution_count": 51,
      "metadata": {},
      "outputs": [
        {
          "data": {
            "text/plain": [
              "Pregnancies                   0\n",
              "Glucose                       5\n",
              "BloodPressure                35\n",
              "SkinThickness               227\n",
              "Insulin                     374\n",
              "BMI                          11\n",
              "DiabetesPedigreeFunction      0\n",
              "Age                           0\n",
              "Outcome                       0\n",
              "dtype: int64"
            ]
          },
          "execution_count": 51,
          "metadata": {},
          "output_type": "execute_result"
        }
      ],
      "source": [
        "df_diabetes.isna().sum()"
      ]
    },
    {
      "cell_type": "markdown",
      "metadata": {},
      "source": [
        "On remplace les NaN values"
      ]
    },
    {
      "cell_type": "code",
      "execution_count": 52,
      "metadata": {},
      "outputs": [
        {
          "data": {
            "text/plain": [
              "Pregnancies                 0\n",
              "Glucose                     0\n",
              "BloodPressure               0\n",
              "SkinThickness               0\n",
              "Insulin                     3\n",
              "BMI                         0\n",
              "DiabetesPedigreeFunction    0\n",
              "Age                         0\n",
              "Outcome                     0\n",
              "dtype: int64"
            ]
          },
          "execution_count": 52,
          "metadata": {},
          "output_type": "execute_result"
        }
      ],
      "source": [
        "df_diabetes = df_diabetes.fillna(method = 'ffill')\n",
        "df_diabetes.isnull().sum()"
      ]
    },
    {
      "cell_type": "code",
      "execution_count": 53,
      "metadata": {
        "colab": {
          "base_uri": "https://localhost:8080/"
        },
        "id": "xCFckF8vijJB",
        "outputId": "2937d68d-45ec-4c30-a789-90cff805bba5"
      },
      "outputs": [
        {
          "data": {
            "text/plain": [
              "Outcome                       2\n",
              "Pregnancies                  17\n",
              "BloodPressure                46\n",
              "SkinThickness                50\n",
              "Age                          52\n",
              "Glucose                     135\n",
              "Insulin                     185\n",
              "BMI                         247\n",
              "DiabetesPedigreeFunction    517\n",
              "dtype: int64"
            ]
          },
          "execution_count": 53,
          "metadata": {},
          "output_type": "execute_result"
        }
      ],
      "source": [
        "df_diabetes.nunique().sort_values()"
      ]
    },
    {
      "cell_type": "code",
      "execution_count": 54,
      "metadata": {
        "colab": {
          "base_uri": "https://localhost:8080/",
          "height": 300
        },
        "id": "b8MEZyKEijFq",
        "outputId": "90ea5340-2414-4030-fa33-8079fddef747"
      },
      "outputs": [
        {
          "data": {
            "text/html": [
              "<div>\n",
              "<style scoped>\n",
              "    .dataframe tbody tr th:only-of-type {\n",
              "        vertical-align: middle;\n",
              "    }\n",
              "\n",
              "    .dataframe tbody tr th {\n",
              "        vertical-align: top;\n",
              "    }\n",
              "\n",
              "    .dataframe thead th {\n",
              "        text-align: right;\n",
              "    }\n",
              "</style>\n",
              "<table border=\"1\" class=\"dataframe\">\n",
              "  <thead>\n",
              "    <tr style=\"text-align: right;\">\n",
              "      <th></th>\n",
              "      <th>Pregnancies</th>\n",
              "      <th>Glucose</th>\n",
              "      <th>BloodPressure</th>\n",
              "      <th>SkinThickness</th>\n",
              "      <th>Insulin</th>\n",
              "      <th>BMI</th>\n",
              "      <th>DiabetesPedigreeFunction</th>\n",
              "      <th>Age</th>\n",
              "      <th>Outcome</th>\n",
              "    </tr>\n",
              "  </thead>\n",
              "  <tbody>\n",
              "    <tr>\n",
              "      <th>count</th>\n",
              "      <td>768.000000</td>\n",
              "      <td>768.000000</td>\n",
              "      <td>768.000000</td>\n",
              "      <td>768.000000</td>\n",
              "      <td>765.000000</td>\n",
              "      <td>768.000000</td>\n",
              "      <td>768.000000</td>\n",
              "      <td>768.000000</td>\n",
              "      <td>768.000000</td>\n",
              "    </tr>\n",
              "    <tr>\n",
              "      <th>mean</th>\n",
              "      <td>3.845052</td>\n",
              "      <td>121.514323</td>\n",
              "      <td>72.308594</td>\n",
              "      <td>29.257812</td>\n",
              "      <td>157.332026</td>\n",
              "      <td>32.482031</td>\n",
              "      <td>0.471876</td>\n",
              "      <td>33.240885</td>\n",
              "      <td>0.348958</td>\n",
              "    </tr>\n",
              "    <tr>\n",
              "      <th>std</th>\n",
              "      <td>3.369578</td>\n",
              "      <td>30.531191</td>\n",
              "      <td>12.375474</td>\n",
              "      <td>10.544310</td>\n",
              "      <td>114.314401</td>\n",
              "      <td>6.908600</td>\n",
              "      <td>0.331329</td>\n",
              "      <td>11.760232</td>\n",
              "      <td>0.476951</td>\n",
              "    </tr>\n",
              "    <tr>\n",
              "      <th>min</th>\n",
              "      <td>0.000000</td>\n",
              "      <td>44.000000</td>\n",
              "      <td>24.000000</td>\n",
              "      <td>7.000000</td>\n",
              "      <td>14.000000</td>\n",
              "      <td>18.200000</td>\n",
              "      <td>0.078000</td>\n",
              "      <td>21.000000</td>\n",
              "      <td>0.000000</td>\n",
              "    </tr>\n",
              "    <tr>\n",
              "      <th>25%</th>\n",
              "      <td>1.000000</td>\n",
              "      <td>99.000000</td>\n",
              "      <td>64.000000</td>\n",
              "      <td>21.000000</td>\n",
              "      <td>78.000000</td>\n",
              "      <td>27.500000</td>\n",
              "      <td>0.243750</td>\n",
              "      <td>24.000000</td>\n",
              "      <td>0.000000</td>\n",
              "    </tr>\n",
              "    <tr>\n",
              "      <th>50%</th>\n",
              "      <td>3.000000</td>\n",
              "      <td>117.000000</td>\n",
              "      <td>72.000000</td>\n",
              "      <td>29.000000</td>\n",
              "      <td>130.000000</td>\n",
              "      <td>32.350000</td>\n",
              "      <td>0.372500</td>\n",
              "      <td>29.000000</td>\n",
              "      <td>0.000000</td>\n",
              "    </tr>\n",
              "    <tr>\n",
              "      <th>75%</th>\n",
              "      <td>6.000000</td>\n",
              "      <td>140.250000</td>\n",
              "      <td>80.000000</td>\n",
              "      <td>36.000000</td>\n",
              "      <td>194.000000</td>\n",
              "      <td>36.725000</td>\n",
              "      <td>0.626250</td>\n",
              "      <td>41.000000</td>\n",
              "      <td>1.000000</td>\n",
              "    </tr>\n",
              "    <tr>\n",
              "      <th>max</th>\n",
              "      <td>17.000000</td>\n",
              "      <td>199.000000</td>\n",
              "      <td>122.000000</td>\n",
              "      <td>99.000000</td>\n",
              "      <td>846.000000</td>\n",
              "      <td>67.100000</td>\n",
              "      <td>2.420000</td>\n",
              "      <td>81.000000</td>\n",
              "      <td>1.000000</td>\n",
              "    </tr>\n",
              "  </tbody>\n",
              "</table>\n",
              "</div>"
            ],
            "text/plain": [
              "       Pregnancies     Glucose  BloodPressure  SkinThickness     Insulin  \\\n",
              "count   768.000000  768.000000     768.000000     768.000000  765.000000   \n",
              "mean      3.845052  121.514323      72.308594      29.257812  157.332026   \n",
              "std       3.369578   30.531191      12.375474      10.544310  114.314401   \n",
              "min       0.000000   44.000000      24.000000       7.000000   14.000000   \n",
              "25%       1.000000   99.000000      64.000000      21.000000   78.000000   \n",
              "50%       3.000000  117.000000      72.000000      29.000000  130.000000   \n",
              "75%       6.000000  140.250000      80.000000      36.000000  194.000000   \n",
              "max      17.000000  199.000000     122.000000      99.000000  846.000000   \n",
              "\n",
              "              BMI  DiabetesPedigreeFunction         Age     Outcome  \n",
              "count  768.000000                768.000000  768.000000  768.000000  \n",
              "mean    32.482031                  0.471876   33.240885    0.348958  \n",
              "std      6.908600                  0.331329   11.760232    0.476951  \n",
              "min     18.200000                  0.078000   21.000000    0.000000  \n",
              "25%     27.500000                  0.243750   24.000000    0.000000  \n",
              "50%     32.350000                  0.372500   29.000000    0.000000  \n",
              "75%     36.725000                  0.626250   41.000000    1.000000  \n",
              "max     67.100000                  2.420000   81.000000    1.000000  "
            ]
          },
          "execution_count": 54,
          "metadata": {},
          "output_type": "execute_result"
        }
      ],
      "source": [
        "df_diabetes.describe()"
      ]
    },
    {
      "cell_type": "code",
      "execution_count": 55,
      "metadata": {
        "colab": {
          "base_uri": "https://localhost:8080/"
        },
        "id": "FrMIyC41ijCY",
        "outputId": "5c224679-18b0-4277-a1d7-818036ccc929"
      },
      "outputs": [
        {
          "data": {
            "text/plain": [
              "Pregnancies                   int64\n",
              "Glucose                     float64\n",
              "BloodPressure               float64\n",
              "SkinThickness               float64\n",
              "Insulin                     float64\n",
              "BMI                         float64\n",
              "DiabetesPedigreeFunction    float64\n",
              "Age                           int64\n",
              "Outcome                       int64\n",
              "dtype: object"
            ]
          },
          "execution_count": 55,
          "metadata": {},
          "output_type": "execute_result"
        }
      ],
      "source": [
        "df_diabetes.dtypes"
      ]
    },
    {
      "cell_type": "markdown",
      "metadata": {},
      "source": [
        "On passe à la recherche des Outliers en utilisant les boxplots "
      ]
    },
    {
      "cell_type": "code",
      "execution_count": 56,
      "metadata": {},
      "outputs": [
        {
          "name": "stderr",
          "output_type": "stream",
          "text": [
            "c:\\Users\\ouabbao\\AppData\\Local\\Programs\\Python\\Python310\\Mydemovenv\\lib\\site-packages\\seaborn\\_decorators.py:36: FutureWarning: Pass the following variable as a keyword arg: x. From version 0.12, the only valid positional argument will be `data`, and passing other arguments without an explicit keyword will result in an error or misinterpretation.\n",
            "  warnings.warn(\n",
            "c:\\Users\\ouabbao\\AppData\\Local\\Programs\\Python\\Python310\\Mydemovenv\\lib\\site-packages\\seaborn\\_decorators.py:36: FutureWarning: Pass the following variable as a keyword arg: x. From version 0.12, the only valid positional argument will be `data`, and passing other arguments without an explicit keyword will result in an error or misinterpretation.\n",
            "  warnings.warn(\n",
            "c:\\Users\\ouabbao\\AppData\\Local\\Programs\\Python\\Python310\\Mydemovenv\\lib\\site-packages\\seaborn\\_decorators.py:36: FutureWarning: Pass the following variable as a keyword arg: x. From version 0.12, the only valid positional argument will be `data`, and passing other arguments without an explicit keyword will result in an error or misinterpretation.\n",
            "  warnings.warn(\n",
            "c:\\Users\\ouabbao\\AppData\\Local\\Programs\\Python\\Python310\\Mydemovenv\\lib\\site-packages\\seaborn\\_decorators.py:36: FutureWarning: Pass the following variable as a keyword arg: x. From version 0.12, the only valid positional argument will be `data`, and passing other arguments without an explicit keyword will result in an error or misinterpretation.\n",
            "  warnings.warn(\n",
            "c:\\Users\\ouabbao\\AppData\\Local\\Programs\\Python\\Python310\\Mydemovenv\\lib\\site-packages\\seaborn\\_decorators.py:36: FutureWarning: Pass the following variable as a keyword arg: x. From version 0.12, the only valid positional argument will be `data`, and passing other arguments without an explicit keyword will result in an error or misinterpretation.\n",
            "  warnings.warn(\n",
            "c:\\Users\\ouabbao\\AppData\\Local\\Programs\\Python\\Python310\\Mydemovenv\\lib\\site-packages\\seaborn\\_decorators.py:36: FutureWarning: Pass the following variable as a keyword arg: x. From version 0.12, the only valid positional argument will be `data`, and passing other arguments without an explicit keyword will result in an error or misinterpretation.\n",
            "  warnings.warn(\n",
            "c:\\Users\\ouabbao\\AppData\\Local\\Programs\\Python\\Python310\\Mydemovenv\\lib\\site-packages\\seaborn\\_decorators.py:36: FutureWarning: Pass the following variable as a keyword arg: x. From version 0.12, the only valid positional argument will be `data`, and passing other arguments without an explicit keyword will result in an error or misinterpretation.\n",
            "  warnings.warn(\n",
            "c:\\Users\\ouabbao\\AppData\\Local\\Programs\\Python\\Python310\\Mydemovenv\\lib\\site-packages\\seaborn\\_decorators.py:36: FutureWarning: Pass the following variable as a keyword arg: x. From version 0.12, the only valid positional argument will be `data`, and passing other arguments without an explicit keyword will result in an error or misinterpretation.\n",
            "  warnings.warn(\n"
          ]
        },
        {
          "data": {
            "image/png": "[encoded data removed]",
            "text/plain": [
              "<Figure size 720x1800 with 8 Axes>"
            ]
          },
          "metadata": {
            "needs_background": "light"
          },
          "output_type": "display_data"
        }
      ],
      "source": [
        "fig1,axes1 =plt.subplots(4,2,figsize=(10, 25))\n",
        "list1_col= df_diabetes.columns\n",
        "for i in range(len(list1_col)-1):\n",
        "    row=i//2\n",
        "    col=i%2\n",
        "    ax=axes1[row,col]\n",
        "    sns.boxplot(df_diabetes[list1_col[i]],ax=ax).set(title= list1_col[i].upper())"
      ]
    },
    {
      "cell_type": "markdown",
      "metadata": {},
      "source": [
        "On remarque qu'on a pas des valeurs qui s'écartent de le médiane pour Glucose,Age et Bloodpressure, Tandis que pour Pregnancy,Insulin,SkinThickness,BMI,DiabetesPedigreeFunction on a des outliers, si on prend l'exemple de pregnancy on a des valeurs qui depassent 9 mois ce qui n'a pas de sens . "
      ]
    },
    {
      "cell_type": "markdown",
      "metadata": {},
      "source": [
        "On va essayer d'enlever les Outliers en utilisant la technique IQR "
      ]
    },
    {
      "cell_type": "code",
      "execution_count": 62,
      "metadata": {},
      "outputs": [
        {
          "name": "stderr",
          "output_type": "stream",
          "text": [
            "C:\\Users\\ouabbao\\AppData\\Local\\Temp\\ipykernel_8112\\1492339136.py:6: FutureWarning: Automatic reindexing on DataFrame vs Series comparisons is deprecated and will raise ValueError in a future version. Do `left, right = left.align(right, axis=1, copy=False)` before e.g. `left == right`\n",
            "  df_diabetes = df_diabetes[~((df_diabetes.iloc[:,0:1] < (Q1 - 1.5 * IQR)) |(df_diabetes.iloc[:,0:1] > (Q3 + 1.5 * IQR))).any(axis=1)]\n",
            "C:\\Users\\ouabbao\\AppData\\Local\\Temp\\ipykernel_8112\\1492339136.py:7: FutureWarning: Automatic reindexing on DataFrame vs Series comparisons is deprecated and will raise ValueError in a future version. Do `left, right = left.align(right, axis=1, copy=False)` before e.g. `left == right`\n",
            "  df_diabetes = df_diabetes[~((df_diabetes.iloc[:,3:4] < (Q1 - 1.5 * IQR)) |(df_diabetes.iloc[:,3:4] > (Q3 + 1.5 * IQR))).any(axis=1)]\n",
            "C:\\Users\\ouabbao\\AppData\\Local\\Temp\\ipykernel_8112\\1492339136.py:8: FutureWarning: Automatic reindexing on DataFrame vs Series comparisons is deprecated and will raise ValueError in a future version. Do `left, right = left.align(right, axis=1, copy=False)` before e.g. `left == right`\n",
            "  df_diabetes = df_diabetes[~((df_diabetes.iloc[:,4:5] < (Q1 - 1.5 * IQR)) |(df_diabetes.iloc[:,4:5] > (Q3 + 1.5 * IQR))).any(axis=1)]\n",
            "C:\\Users\\ouabbao\\AppData\\Local\\Temp\\ipykernel_8112\\1492339136.py:9: FutureWarning: Automatic reindexing on DataFrame vs Series comparisons is deprecated and will raise ValueError in a future version. Do `left, right = left.align(right, axis=1, copy=False)` before e.g. `left == right`\n",
            "  df_diabetes = df_diabetes[~((df_diabetes.iloc[:,5:6] < (Q1 - 1.5 * IQR)) |(df_diabetes.iloc[:,5:6] > (Q3 + 1.5 * IQR))).any(axis=1)]\n",
            "C:\\Users\\ouabbao\\AppData\\Local\\Temp\\ipykernel_8112\\1492339136.py:10: FutureWarning: Automatic reindexing on DataFrame vs Series comparisons is deprecated and will raise ValueError in a future version. Do `left, right = left.align(right, axis=1, copy=False)` before e.g. `left == right`\n",
            "  df_diabetes = df_diabetes[~((df_diabetes.iloc[:,6:7] < (Q1 - 1.5 * IQR)) |(df_diabetes.iloc[:,6:7] > (Q3 + 1.5 * IQR))).any(axis=1)]\n"
          ]
        }
      ],
      "source": [
        "\n",
        "Q1 = df_diabetes.quantile(0.25)\n",
        "Q3 = df_diabetes.quantile(0.75)\n",
        "IQR = Q3 - Q1\n",
        "\n",
        "\n",
        "df_diabetes = df_diabetes[~((df_diabetes.iloc[:,0:1] < (Q1 - 1.5 * IQR)) |(df_diabetes.iloc[:,0:1] > (Q3 + 1.5 * IQR))).any(axis=1)]\n",
        "df_diabetes = df_diabetes[~((df_diabetes.iloc[:,3:4] < (Q1 - 1.5 * IQR)) |(df_diabetes.iloc[:,3:4] > (Q3 + 1.5 * IQR))).any(axis=1)] \n",
        "df_diabetes = df_diabetes[~((df_diabetes.iloc[:,4:5] < (Q1 - 1.5 * IQR)) |(df_diabetes.iloc[:,4:5] > (Q3 + 1.5 * IQR))).any(axis=1)]\n",
        "df_diabetes = df_diabetes[~((df_diabetes.iloc[:,5:6] < (Q1 - 1.5 * IQR)) |(df_diabetes.iloc[:,5:6] > (Q3 + 1.5 * IQR))).any(axis=1)] \n",
        "df_diabetes = df_diabetes[~((df_diabetes.iloc[:,6:7] < (Q1 - 1.5 * IQR)) |(df_diabetes.iloc[:,6:7] > (Q3 + 1.5 * IQR))).any(axis=1)]  \n"
      ]
    },
    {
      "cell_type": "code",
      "execution_count": 67,
      "metadata": {},
      "outputs": [
        {
          "name": "stdout",
          "output_type": "stream",
          "text": [
            "(768,)\n",
            "(768,)\n",
            "(768,)\n",
            "(768,)\n",
            "(768,)\n"
          ]
        }
      ],
      "source": [
        "#Avant d'enlever les Outliers\n",
        "print(df.Pregnancies.shape)\n",
        "print(df.Insulin.shape)\n",
        "print(df.SkinThickness.shape)\n",
        "print(df.BMI.shape)\n",
        "print(df.DiabetesPedigreeFunction.shape)"
      ]
    },
    {
      "cell_type": "code",
      "execution_count": 65,
      "metadata": {},
      "outputs": [
        {
          "name": "stdout",
          "output_type": "stream",
          "text": [
            "(669,)\n",
            "(669,)\n",
            "(669,)\n",
            "(669,)\n",
            "(669,)\n"
          ]
        }
      ],
      "source": [
        "#Après enlever les Outliers\n",
        "print(df_diabetes.Pregnancies.shape)\n",
        "print(df_diabetes.Insulin.shape)\n",
        "print(df_diabetes.SkinThickness.shape)\n",
        "print(df_diabetes.BMI.shape)\n",
        "print(df_diabetes.DiabetesPedigreeFunction.shape)"
      ]
    },
    {
      "cell_type": "markdown",
      "metadata": {},
      "source": [
        "On affiche les mêmes boxplots pour s'assurer que les Outliers ont été supprimés "
      ]
    },
    {
      "cell_type": "code",
      "execution_count": 68,
      "metadata": {},
      "outputs": [
        {
          "name": "stderr",
          "output_type": "stream",
          "text": [
            "c:\\Users\\ouabbao\\AppData\\Local\\Programs\\Python\\Python310\\Mydemovenv\\lib\\site-packages\\seaborn\\_decorators.py:36: FutureWarning: Pass the following variable as a keyword arg: x. From version 0.12, the only valid positional argument will be `data`, and passing other arguments without an explicit keyword will result in an error or misinterpretation.\n",
            "  warnings.warn(\n",
            "c:\\Users\\ouabbao\\AppData\\Local\\Programs\\Python\\Python310\\Mydemovenv\\lib\\site-packages\\seaborn\\_decorators.py:36: FutureWarning: Pass the following variable as a keyword arg: x. From version 0.12, the only valid positional argument will be `data`, and passing other arguments without an explicit keyword will result in an error or misinterpretation.\n",
            "  warnings.warn(\n",
            "c:\\Users\\ouabbao\\AppData\\Local\\Programs\\Python\\Python310\\Mydemovenv\\lib\\site-packages\\seaborn\\_decorators.py:36: FutureWarning: Pass the following variable as a keyword arg: x. From version 0.12, the only valid positional argument will be `data`, and passing other arguments without an explicit keyword will result in an error or misinterpretation.\n",
            "  warnings.warn(\n",
            "c:\\Users\\ouabbao\\AppData\\Local\\Programs\\Python\\Python310\\Mydemovenv\\lib\\site-packages\\seaborn\\_decorators.py:36: FutureWarning: Pass the following variable as a keyword arg: x. From version 0.12, the only valid positional argument will be `data`, and passing other arguments without an explicit keyword will result in an error or misinterpretation.\n",
            "  warnings.warn(\n",
            "c:\\Users\\ouabbao\\AppData\\Local\\Programs\\Python\\Python310\\Mydemovenv\\lib\\site-packages\\seaborn\\_decorators.py:36: FutureWarning: Pass the following variable as a keyword arg: x. From version 0.12, the only valid positional argument will be `data`, and passing other arguments without an explicit keyword will result in an error or misinterpretation.\n",
            "  warnings.warn(\n",
            "c:\\Users\\ouabbao\\AppData\\Local\\Programs\\Python\\Python310\\Mydemovenv\\lib\\site-packages\\seaborn\\_decorators.py:36: FutureWarning: Pass the following variable as a keyword arg: x. From version 0.12, the only valid positional argument will be `data`, and passing other arguments without an explicit keyword will result in an error or misinterpretation.\n",
            "  warnings.warn(\n",
            "c:\\Users\\ouabbao\\AppData\\Local\\Programs\\Python\\Python310\\Mydemovenv\\lib\\site-packages\\seaborn\\_decorators.py:36: FutureWarning: Pass the following variable as a keyword arg: x. From version 0.12, the only valid positional argument will be `data`, and passing other arguments without an explicit keyword will result in an error or misinterpretation.\n",
            "  warnings.warn(\n",
            "c:\\Users\\ouabbao\\AppData\\Local\\Programs\\Python\\Python310\\Mydemovenv\\lib\\site-packages\\seaborn\\_decorators.py:36: FutureWarning: Pass the following variable as a keyword arg: x. From version 0.12, the only valid positional argument will be `data`, and passing other arguments without an explicit keyword will result in an error or misinterpretation.\n",
            "  warnings.warn(\n"
          ]
        },
        {
          "data": {
            "image/png": "[encoded data removed]",
            "text/plain": [
              "<Figure size 1008x1800 with 8 Axes>"
            ]
          },
          "metadata": {
            "needs_background": "light"
          },
          "output_type": "display_data"
        }
      ],
      "source": [
        "fig1, axes1 =plt.subplots(4,2,figsize=(14, 25))\n",
        "list1_col= df_diabetes.columns\n",
        "for i in range(len(list1_col)-1):\n",
        "    row=i//2\n",
        "    col=i%2\n",
        "    ax=axes1[row,col]\n",
        "    sns.boxplot(df_diabetes[list1_col[i]],ax=ax).set(title=list1_col[i].upper())"
      ]
    },
    {
      "cell_type": "markdown",
      "metadata": {},
      "source": [
        "Data Visualization"
      ]
    },
    {
      "cell_type": "code",
      "execution_count": 71,
      "metadata": {},
      "outputs": [
        {
          "data": {
            "image/png": "[encoded data removed]",
            "text/plain": [
              "<Figure size 720x720 with 2 Axes>"
            ]
          },
          "metadata": {
            "needs_background": "light"
          },
          "output_type": "display_data"
        }
      ],
      "source": [
        "#Heatmap\n",
        "corrmat = df_diabetes.corr()\n",
        "top_corr_features = corrmat.index\n",
        "plt.figure(figsize=(10,10))\n",
        "g=sns.heatmap(df_diabetes[top_corr_features].corr(),annot=True,cmap=\"RdPu\")"
      ]
    },
    {
      "cell_type": "markdown",
      "metadata": {},
      "source": [
        "Outcome est  corrélé à 48 % avec le glucose, ce qui est évident car le diabète dépend fortement du taux de glucose dans notre sang.\n",
        "L'âge et les grossesses sont également corrélés de 55%. En dessous de 18 ans, personne ne peut tomber enceinte ni après 50 ans."
      ]
    },
    {
      "cell_type": "code",
      "execution_count": 78,
      "metadata": {},
      "outputs": [
        {
          "data": {
            "image/png": "[encoded data removed]",
            "text/plain": [
              "<Figure size 1296x576 with 1 Axes>"
            ]
          },
          "metadata": {
            "needs_background": "light"
          },
          "output_type": "display_data"
        }
      ],
      "source": [
        "# On compare le Outcome au Glucose\n",
        "pd.crosstab(df_diabetes.Glucose[::15],df_diabetes.Outcome).plot(kind=\"bar\",figsize=(18,8),color=[\"blue\",\"deeppink\"])\n",
        "plt.ylabel(\"Personnes\");\n",
        "plt.xticks(rotation=0);\n",
        "plt.legend(['Non Diabètique', 'Diabètique'])\n",
        "plt.title('Outcome vs Glucose')\n",
        "plt.show()"
      ]
    },
    {
      "cell_type": "code",
      "execution_count": 72,
      "metadata": {},
      "outputs": [
        {
          "name": "stderr",
          "output_type": "stream",
          "text": [
            "c:\\Users\\ouabbao\\AppData\\Local\\Programs\\Python\\Python310\\Mydemovenv\\lib\\site-packages\\seaborn\\_decorators.py:36: FutureWarning: Pass the following variable as a keyword arg: x. From version 0.12, the only valid positional argument will be `data`, and passing other arguments without an explicit keyword will result in an error or misinterpretation.\n",
            "  warnings.warn(\n"
          ]
        },
        {
          "data": {
            "text/plain": [
              "<AxesSubplot:xlabel='Outcome', ylabel='count'>"
            ]
          },
          "execution_count": 72,
          "metadata": {},
          "output_type": "execute_result"
        },
        {
          "data": {
            "image/png": "[encoded data removed]",
            "text/plain": [
              "<Figure size 360x360 with 1 Axes>"
            ]
          },
          "metadata": {
            "needs_background": "light"
          },
          "output_type": "display_data"
        }
      ],
      "source": [
        "plt.figure(figsize=(5,5))\n",
        "sns.countplot(df_diabetes[\"Outcome\"])"
      ]
    },
    {
      "cell_type": "markdown",
      "metadata": {},
      "source": [
        "Scaling les données "
      ]
    },
    {
      "cell_type": "code",
      "execution_count": 81,
      "metadata": {},
      "outputs": [
        {
          "data": {
            "text/html": [
              "<div>\n",
              "<style scoped>\n",
              "    .dataframe tbody tr th:only-of-type {\n",
              "        vertical-align: middle;\n",
              "    }\n",
              "\n",
              "    .dataframe tbody tr th {\n",
              "        vertical-align: top;\n",
              "    }\n",
              "\n",
              "    .dataframe thead th {\n",
              "        text-align: right;\n",
              "    }\n",
              "</style>\n",
              "<table border=\"1\" class=\"dataframe\">\n",
              "  <thead>\n",
              "    <tr style=\"text-align: right;\">\n",
              "      <th></th>\n",
              "      <th>Pregnancies</th>\n",
              "      <th>Glucose</th>\n",
              "      <th>BloodPressure</th>\n",
              "      <th>SkinThickness</th>\n",
              "      <th>Insulin</th>\n",
              "      <th>BMI</th>\n",
              "      <th>DiabetesPedigreeFunction</th>\n",
              "      <th>Age</th>\n",
              "      <th>Outcome</th>\n",
              "    </tr>\n",
              "  </thead>\n",
              "  <tbody>\n",
              "    <tr>\n",
              "      <th>0</th>\n",
              "      <td>0.461538</td>\n",
              "      <td>0.675325</td>\n",
              "      <td>0.489796</td>\n",
              "      <td>0.595745</td>\n",
              "      <td>NaN</td>\n",
              "      <td>0.503268</td>\n",
              "      <td>0.536657</td>\n",
              "      <td>0.483333</td>\n",
              "      <td>1.0</td>\n",
              "    </tr>\n",
              "    <tr>\n",
              "      <th>1</th>\n",
              "      <td>0.076923</td>\n",
              "      <td>0.266234</td>\n",
              "      <td>0.428571</td>\n",
              "      <td>0.468085</td>\n",
              "      <td>NaN</td>\n",
              "      <td>0.274510</td>\n",
              "      <td>0.266862</td>\n",
              "      <td>0.166667</td>\n",
              "      <td>0.0</td>\n",
              "    </tr>\n",
              "    <tr>\n",
              "      <th>2</th>\n",
              "      <td>0.615385</td>\n",
              "      <td>0.902597</td>\n",
              "      <td>0.408163</td>\n",
              "      <td>0.468085</td>\n",
              "      <td>NaN</td>\n",
              "      <td>0.166667</td>\n",
              "      <td>0.580645</td>\n",
              "      <td>0.183333</td>\n",
              "      <td>1.0</td>\n",
              "    </tr>\n",
              "    <tr>\n",
              "      <th>3</th>\n",
              "      <td>0.076923</td>\n",
              "      <td>0.292208</td>\n",
              "      <td>0.428571</td>\n",
              "      <td>0.340426</td>\n",
              "      <td>0.246875</td>\n",
              "      <td>0.323529</td>\n",
              "      <td>0.086999</td>\n",
              "      <td>0.000000</td>\n",
              "      <td>0.0</td>\n",
              "    </tr>\n",
              "    <tr>\n",
              "      <th>5</th>\n",
              "      <td>0.384615</td>\n",
              "      <td>0.467532</td>\n",
              "      <td>0.510204</td>\n",
              "      <td>0.595745</td>\n",
              "      <td>0.478125</td>\n",
              "      <td>0.241830</td>\n",
              "      <td>0.120235</td>\n",
              "      <td>0.150000</td>\n",
              "      <td>0.0</td>\n",
              "    </tr>\n",
              "  </tbody>\n",
              "</table>\n",
              "</div>"
            ],
            "text/plain": [
              "   Pregnancies   Glucose  BloodPressure  SkinThickness   Insulin       BMI  \\\n",
              "0     0.461538  0.675325       0.489796       0.595745       NaN  0.503268   \n",
              "1     0.076923  0.266234       0.428571       0.468085       NaN  0.274510   \n",
              "2     0.615385  0.902597       0.408163       0.468085       NaN  0.166667   \n",
              "3     0.076923  0.292208       0.428571       0.340426  0.246875  0.323529   \n",
              "5     0.384615  0.467532       0.510204       0.595745  0.478125  0.241830   \n",
              "\n",
              "   DiabetesPedigreeFunction       Age  Outcome  \n",
              "0                  0.536657  0.483333      1.0  \n",
              "1                  0.266862  0.166667      0.0  \n",
              "2                  0.580645  0.183333      1.0  \n",
              "3                  0.086999  0.000000      0.0  \n",
              "5                  0.120235  0.150000      0.0  "
            ]
          },
          "execution_count": 81,
          "metadata": {},
          "output_type": "execute_result"
        }
      ],
      "source": [
        "from sklearn.preprocessing import MinMaxScaler\n",
        "scaler = MinMaxScaler()\n",
        "df_diabetes[df_diabetes.columns] = scaler.fit_transform(df_diabetes[df_diabetes.columns])\n",
        "df_diabetes.head()"
      ]
    },
    {
      "cell_type": "markdown",
      "metadata": {},
      "source": [
        "Modeling"
      ]
    },
    {
      "cell_type": "code",
      "execution_count": 106,
      "metadata": {},
      "outputs": [],
      "source": [
        "from sklearn.model_selection import train_test_split, cross_val_score\n",
        "df_diabetes.sample(frac=1)\n",
        "\n",
        "#Spliting the data\n",
        "X = df_diabetes.drop(\"Outcome\",axis=1)\n",
        "y = df_diabetes[\"Outcome\"]\n",
        "X_train, X_test, y_train, y_test = train_test_split(X, y, test_size=0.2, random_state=42)"
      ]
    },
    {
      "cell_type": "code",
      "execution_count": 97,
      "metadata": {},
      "outputs": [
        {
          "data": {
            "text/plain": [
              "30     0.0\n",
              "299    0.0\n",
              "423    0.0\n",
              "256    0.0\n",
              "312    1.0\n",
              "Name: Outcome, dtype: float64"
            ]
          },
          "execution_count": 97,
          "metadata": {},
          "output_type": "execute_result"
        }
      ],
      "source": [
        "y_train.head()"
      ]
    },
    {
      "cell_type": "code",
      "execution_count": 85,
      "metadata": {},
      "outputs": [
        {
          "data": {
            "text/html": [
              "<div>\n",
              "<style scoped>\n",
              "    .dataframe tbody tr th:only-of-type {\n",
              "        vertical-align: middle;\n",
              "    }\n",
              "\n",
              "    .dataframe tbody tr th {\n",
              "        vertical-align: top;\n",
              "    }\n",
              "\n",
              "    .dataframe thead th {\n",
              "        text-align: right;\n",
              "    }\n",
              "</style>\n",
              "<table border=\"1\" class=\"dataframe\">\n",
              "  <thead>\n",
              "    <tr style=\"text-align: right;\">\n",
              "      <th></th>\n",
              "      <th>Pregnancies</th>\n",
              "      <th>Glucose</th>\n",
              "      <th>BloodPressure</th>\n",
              "      <th>SkinThickness</th>\n",
              "      <th>Insulin</th>\n",
              "      <th>BMI</th>\n",
              "      <th>DiabetesPedigreeFunction</th>\n",
              "      <th>Age</th>\n",
              "    </tr>\n",
              "  </thead>\n",
              "  <tbody>\n",
              "    <tr>\n",
              "      <th>264</th>\n",
              "      <td>0.307692</td>\n",
              "      <td>0.512987</td>\n",
              "      <td>0.387755</td>\n",
              "      <td>0.170213</td>\n",
              "      <td>0.359375</td>\n",
              "      <td>0.450980</td>\n",
              "      <td>0.144673</td>\n",
              "      <td>0.233333</td>\n",
              "    </tr>\n",
              "    <tr>\n",
              "      <th>755</th>\n",
              "      <td>0.076923</td>\n",
              "      <td>0.545455</td>\n",
              "      <td>0.653061</td>\n",
              "      <td>0.680851</td>\n",
              "      <td>0.296875</td>\n",
              "      <td>0.598039</td>\n",
              "      <td>0.956989</td>\n",
              "      <td>0.266667</td>\n",
              "    </tr>\n",
              "    <tr>\n",
              "      <th>224</th>\n",
              "      <td>0.076923</td>\n",
              "      <td>0.363636</td>\n",
              "      <td>0.428571</td>\n",
              "      <td>0.170213</td>\n",
              "      <td>0.128125</td>\n",
              "      <td>0.176471</td>\n",
              "      <td>0.574780</td>\n",
              "      <td>0.083333</td>\n",
              "    </tr>\n",
              "    <tr>\n",
              "      <th>615</th>\n",
              "      <td>0.230769</td>\n",
              "      <td>0.402597</td>\n",
              "      <td>0.489796</td>\n",
              "      <td>0.404255</td>\n",
              "      <td>0.403125</td>\n",
              "      <td>0.248366</td>\n",
              "      <td>0.126100</td>\n",
              "      <td>0.100000</td>\n",
              "    </tr>\n",
              "    <tr>\n",
              "      <th>533</th>\n",
              "      <td>0.461538</td>\n",
              "      <td>0.305195</td>\n",
              "      <td>0.428571</td>\n",
              "      <td>0.957447</td>\n",
              "      <td>0.156250</td>\n",
              "      <td>0.379085</td>\n",
              "      <td>0.413490</td>\n",
              "      <td>0.166667</td>\n",
              "    </tr>\n",
              "  </tbody>\n",
              "</table>\n",
              "</div>"
            ],
            "text/plain": [
              "     Pregnancies   Glucose  BloodPressure  SkinThickness   Insulin       BMI  \\\n",
              "264     0.307692  0.512987       0.387755       0.170213  0.359375  0.450980   \n",
              "755     0.076923  0.545455       0.653061       0.680851  0.296875  0.598039   \n",
              "224     0.076923  0.363636       0.428571       0.170213  0.128125  0.176471   \n",
              "615     0.230769  0.402597       0.489796       0.404255  0.403125  0.248366   \n",
              "533     0.461538  0.305195       0.428571       0.957447  0.156250  0.379085   \n",
              "\n",
              "     DiabetesPedigreeFunction       Age  \n",
              "264                  0.144673  0.233333  \n",
              "755                  0.956989  0.266667  \n",
              "224                  0.574780  0.083333  \n",
              "615                  0.126100  0.100000  \n",
              "533                  0.413490  0.166667  "
            ]
          },
          "execution_count": 85,
          "metadata": {},
          "output_type": "execute_result"
        }
      ],
      "source": [
        "X_test.head()\n"
      ]
    },
    {
      "cell_type": "code",
      "execution_count": 98,
      "metadata": {},
      "outputs": [
        {
          "data": {
            "text/plain": [
              "427    1.0\n",
              "185    1.0\n",
              "551    0.0\n",
              "614    1.0\n",
              "328    1.0\n",
              "Name: Outcome, dtype: float64"
            ]
          },
          "execution_count": 98,
          "metadata": {},
          "output_type": "execute_result"
        }
      ],
      "source": [
        "y_test.head()"
      ]
    },
    {
      "cell_type": "code",
      "execution_count": 100,
      "metadata": {},
      "outputs": [
        {
          "data": {
            "text/plain": [
              "Pregnancies                 0\n",
              "Glucose                     0\n",
              "BloodPressure               0\n",
              "SkinThickness               0\n",
              "Insulin                     0\n",
              "BMI                         0\n",
              "DiabetesPedigreeFunction    0\n",
              "Age                         0\n",
              "Outcome                     0\n",
              "dtype: int64"
            ]
          },
          "execution_count": 100,
          "metadata": {},
          "output_type": "execute_result"
        }
      ],
      "source": [
        "df_diabetes = df_diabetes.fillna(method = 'ffill')\n",
        "df_diabetes = df_diabetes.fillna(method = 'bfill')\n",
        "df_diabetes.isnull().sum()"
      ]
    },
    {
      "cell_type": "code",
      "execution_count": null,
      "metadata": {},
      "outputs": [],
      "source": [
        "from sklearn.ensemble import RandomForestClassifier\n",
        "from sklearn.neighbors import KNeighborsClassifier\n",
        "from sklearn.svm import SVC"
      ]
    },
    {
      "cell_type": "code",
      "execution_count": 126,
      "metadata": {},
      "outputs": [],
      "source": [
        "\n",
        "# Logistic Regression\n",
        "from sklearn.linear_model import LogisticRegression\n",
        "model=LogisticRegression()\n",
        "model.fit(X_train,y_train)\n",
        "# Evaluer le Modèle\n",
        "log_reg = model.score(X_test,y_test)"
      ]
    },
    {
      "cell_type": "code",
      "execution_count": 138,
      "metadata": {},
      "outputs": [],
      "source": [
        "\n",
        "# KNN\n",
        "knn1 = KNeighborsClassifier()\n",
        "knn1.fit(X_train,y_train);\n",
        "# Evaluer le Modèle\n",
        "knn = knn1.score(X_test,y_test)"
      ]
    },
    {
      "cell_type": "code",
      "execution_count": 139,
      "metadata": {},
      "outputs": [],
      "source": [
        "# Support Vector Machine\n",
        "svm1 = SVC()\n",
        "svm1.fit(X_train,y_train)\n",
        "# Evaluer le Modèle\n",
        "svm = svm1.score(X_test,y_test)"
      ]
    },
    {
      "cell_type": "code",
      "execution_count": 140,
      "metadata": {},
      "outputs": [],
      "source": [
        "# Random forest classifier\n",
        "clf1= RandomForestClassifier()\n",
        "clf1.fit(X_train,y_train);\n",
        "# Evaluer le Modèle\n",
        "clf = clf1.score(X_test,y_test)\n"
      ]
    },
    {
      "cell_type": "code",
      "execution_count": 150,
      "metadata": {},
      "outputs": [
        {
          "data": {
            "text/html": [
              "<div>\n",
              "<style scoped>\n",
              "    .dataframe tbody tr th:only-of-type {\n",
              "        vertical-align: middle;\n",
              "    }\n",
              "\n",
              "    .dataframe tbody tr th {\n",
              "        vertical-align: top;\n",
              "    }\n",
              "\n",
              "    .dataframe thead th {\n",
              "        text-align: right;\n",
              "    }\n",
              "</style>\n",
              "<table border=\"1\" class=\"dataframe\">\n",
              "  <thead>\n",
              "    <tr style=\"text-align: right;\">\n",
              "      <th></th>\n",
              "      <th>Logistic Regression</th>\n",
              "      <th>KNN</th>\n",
              "      <th>Support Vector Machine</th>\n",
              "      <th>Random Forest Classifier</th>\n",
              "    </tr>\n",
              "  </thead>\n",
              "  <tbody>\n",
              "    <tr>\n",
              "      <th>accuracy</th>\n",
              "      <td>0.776119</td>\n",
              "      <td>0.723881</td>\n",
              "      <td>0.776119</td>\n",
              "      <td>0.746269</td>\n",
              "    </tr>\n",
              "  </tbody>\n",
              "</table>\n",
              "</div>"
            ],
            "text/plain": [
              "          Logistic Regression       KNN  Support Vector Machine  \\\n",
              "accuracy             0.776119  0.723881                0.776119   \n",
              "\n",
              "          Random Forest Classifier  \n",
              "accuracy                  0.746269  "
            ]
          },
          "execution_count": 150,
          "metadata": {},
          "output_type": "execute_result"
        }
      ],
      "source": [
        "model_compare = pd.DataFrame({\"Logistic Regression\":log_reg,\n",
        "                            \"KNN\":knn,\n",
        "                             \"Support Vector Machine\":svm,\n",
        "                            \"Random Forest Classifier\":clf,\n",
        "                          \n",
        "                            },index=[\"accuracy\"])\n",
        "model_compare"
      ]
    },
    {
      "cell_type": "markdown",
      "metadata": {},
      "source": [
        "La précision des 4 modèles depassent 70% \n",
        "Pour décider quel modèle convient le mieux à notre Dataset, nous vérifions l'AUC de tous les modèles. Le modèle avec un bon score AUC est le meilleur modèle pour notre dataset."
      ]
    },
    {
      "cell_type": "code",
      "execution_count": 142,
      "metadata": {},
      "outputs": [
        {
          "data": {
            "text/plain": [
              "<matplotlib.legend.Legend at 0x1e576e4d4b0>"
            ]
          },
          "execution_count": 142,
          "metadata": {},
          "output_type": "execute_result"
        },
        {
          "data": {
            "image/png": "[encoded data removed]",
            "text/plain": [
              "<Figure size 432x288 with 1 Axes>"
            ]
          },
          "metadata": {
            "needs_background": "light"
          },
          "output_type": "display_data"
        }
      ],
      "source": [
        "from sklearn import metrics\n",
        "y_pred_proba = model.predict_proba(X_test)[::,1]\n",
        "fpr, tpr, _ = metrics.roc_curve(y_test, y_pred_proba)\n",
        "fpr \n",
        "tpr\n",
        "\n",
        "auc = metrics.roc_auc_score(y_test, y_pred_proba)\n",
        "auc\n",
        "\n",
        "plt.plot(fpr,tpr,label=\"data 1, auc=\"+str(auc))\n",
        "plt.legend(loc=4)\n",
        "plt.xlabel('False Positive Rate')\n",
        "plt.ylabel('True Positive Rate')\n",
        "plt.title('Receiver operating characteristic')\n",
        "plt.legend(loc=\"lower right\")"
      ]
    },
    {
      "cell_type": "markdown",
      "metadata": {},
      "source": [
        " AUC de la régression logistique est de 85% ce qui est assez bon."
      ]
    },
    {
      "cell_type": "code",
      "execution_count": 145,
      "metadata": {},
      "outputs": [
        {
          "data": {
            "text/plain": [
              "<matplotlib.legend.Legend at 0x1e5731af190>"
            ]
          },
          "execution_count": 145,
          "metadata": {},
          "output_type": "execute_result"
        },
        {
          "data": {
            "image/png": "[encoded data removed]",
            "text/plain": [
              "<Figure size 432x288 with 1 Axes>"
            ]
          },
          "metadata": {
            "needs_background": "light"
          },
          "output_type": "display_data"
        }
      ],
      "source": [
        "y_pred_proba = knn1.predict_proba(X_test)[::,1]\n",
        "fpr, tpr, _ = metrics.roc_curve(y_test, y_pred_proba)\n",
        "fpr \n",
        "tpr\n",
        "\n",
        "auc = metrics.roc_auc_score(y_test, y_pred_proba)\n",
        "auc\n",
        "\n",
        "plt.plot(fpr,tpr,label=\"data 1, auc=\"+str(auc))\n",
        "plt.legend(loc=4)\n",
        "plt.xlabel('False Positive Rate')\n",
        "plt.ylabel('True Positive Rate')\n",
        "plt.title('Receiver operating characteristic')\n",
        "plt.legend(loc=\"lower right\")"
      ]
    },
    {
      "cell_type": "markdown",
      "metadata": {},
      "source": [
        " AUC u KNN est de 77% ce qui est moins  bon que le premier."
      ]
    },
    {
      "cell_type": "code",
      "execution_count": 148,
      "metadata": {},
      "outputs": [
        {
          "data": {
            "text/plain": [
              "<matplotlib.legend.Legend at 0x1e5733c8520>"
            ]
          },
          "execution_count": 148,
          "metadata": {},
          "output_type": "execute_result"
        },
        {
          "data": {
            "image/png": "[encoded data removed]",
            "text/plain": [
              "<Figure size 432x288 with 1 Axes>"
            ]
          },
          "metadata": {
            "needs_background": "light"
          },
          "output_type": "display_data"
        }
      ],
      "source": [
        "y_pred_proba = clf1.predict_proba(X_test)[::,1]\n",
        "fpr, tpr, _ = metrics.roc_curve(y_test, y_pred_proba)\n",
        "fpr \n",
        "tpr\n",
        "\n",
        "auc = metrics.roc_auc_score(y_test, y_pred_proba)\n",
        "auc\n",
        "\n",
        "plt.plot(fpr,tpr,label=\"data 1, auc=\"+str(auc))\n",
        "plt.legend(loc=4)\n",
        "plt.xlabel('False Positive Rate')\n",
        "plt.ylabel('True Positive Rate')\n",
        "plt.title('Receiver operating characteristic')\n",
        "plt.legend(loc=\"lower right\")"
      ]
    },
    {
      "cell_type": "markdown",
      "metadata": {},
      "source": [
        " AUC du Random forst classifier est de 83% ce qui est meilleur que KNN mais il reste moins bon que la regression logistique."
      ]
    },
    {
      "cell_type": "markdown",
      "metadata": {},
      "source": [
        "La régression logistique a le score AUC le plus élevé, donc le modèle de régression logistique est le modèle parfait pour notre dataset\n",
        "Le modèle SVM est également un bon modèle pour notre dataset car il offre une  précision égale à celle de la régression logistique."
      ]
    }
  ],
  "metadata": {
    "colab": {
      "name": "Pima Indians Diabetes_Ghouli_Abbaoui.ipynb",
      "provenance": []
    },
    "kernelspec": {
      "display_name": "Python 3",
      "name": "python3"
    },
    "language_info": {
      "codemirror_mode": {
        "name": "ipython",
        "version": 3
      },
      "file_extension": ".py",
      "mimetype": "text/x-python",
      "name": "python",
      "nbconvert_exporter": "python",
      "pygments_lexer": "ipython3",
      "version": "3.10.4"
    }
  },
  "nbformat": 4,
  "nbformat_minor": 0
}
